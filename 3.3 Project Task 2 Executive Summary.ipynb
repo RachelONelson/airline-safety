{
 "cells": [
  {
   "cell_type": "code",
   "execution_count": 36,
   "metadata": {
    "collapsed": true
   },
   "outputs": [],
   "source": []
  },
  {
   "cell_type": "markdown",
   "source": [
    "# 3.3 3.3 Project Task 2: Executive Summary\n",
    "student: Rachel Nelson\n",
    "\n",
    "class: DSC640-T302 Data Presentation & Visualization (2221-1)"
   ],
   "metadata": {
    "collapsed": false
   }
  },
  {
   "cell_type": "code",
   "execution_count": 37,
   "outputs": [],
   "source": [
    "# Import Packages\n",
    "import pandas as pd\n",
    "import seaborn as sns\n",
    "import matplotlib.pyplot as plt\n",
    "import numpy as np"
   ],
   "metadata": {
    "collapsed": false,
    "pycharm": {
     "name": "#%%\n"
    }
   }
  },
  {
   "cell_type": "code",
   "execution_count": 38,
   "outputs": [],
   "source": [
    "# Import data into dataframe and get header information\n",
    "df = pd.read_csv('combined crash and fatality.csv')"
   ],
   "metadata": {
    "collapsed": false,
    "pycharm": {
     "name": "#%%\n"
    }
   }
  },
  {
   "cell_type": "code",
   "execution_count": 39,
   "outputs": [],
   "source": [
    "df = df.rename(columns={\"Nb of Crashes\": \"Crashes\"},errors=\"raise\")\n",
    "df = df.drop(columns=['Year'])"
   ],
   "metadata": {
    "collapsed": false,
    "pycharm": {
     "name": "#%%\n"
    }
   }
  },
  {
   "cell_type": "code",
   "execution_count": 40,
   "outputs": [
    {
     "name": "stdout",
     "output_type": "stream",
     "text": [
      "   Crashes  Fatalities\n",
      "0       12           4\n",
      "1       62          33\n",
      "2       97          54\n",
      "3       98          42\n",
      "4       80          69\n",
      "          Crashes   Fatalities\n",
      "count  106.000000   106.000000\n",
      "mean   266.764151  1529.235849\n",
      "std    146.963070  1016.321167\n",
      "min     12.000000     4.000000\n",
      "25%    182.000000   621.250000\n",
      "50%    262.000000  1609.500000\n",
      "75%    330.000000  2212.000000\n",
      "max    944.000000  4700.000000\n"
     ]
    }
   ],
   "source": [
    "print(df.head(5))\n",
    "print(df.describe())"
   ],
   "metadata": {
    "collapsed": false,
    "pycharm": {
     "name": "#%%\n"
    }
   }
  },
  {
   "cell_type": "code",
   "execution_count": 42,
   "outputs": [
    {
     "data": {
      "text/plain": "<Figure size 432x288 with 2 Axes>",
      "image/png": "[encoded data removed]"
     },
     "metadata": {
      "needs_background": "light"
     },
     "output_type": "display_data"
    }
   ],
   "source": [
    "# Correlation Matrix\n",
    "# taking all rows but only 6 columns\n",
    "correlation_mat = df.corr()\n",
    "sns.heatmap(correlation_mat, annot = True)\n",
    "plt.title(\"Correlation matrix\")\n",
    "plt.show()\n"
   ],
   "metadata": {
    "collapsed": false,
    "pycharm": {
     "name": "#%%\n"
    }
   }
  }
 ],
 "metadata": {
  "kernelspec": {
   "display_name": "Python 3",
   "language": "python",
   "name": "python3"
  },
  "language_info": {
   "codemirror_mode": {
    "name": "ipython",
    "version": 2
   },
   "file_extension": ".py",
   "mimetype": "text/x-python",
   "name": "python",
   "nbconvert_exporter": "python",
   "pygments_lexer": "ipython2",
   "version": "2.7.6"
  }
 },
 "nbformat": 4,
 "nbformat_minor": 0
}